{
 "cells": [
  {
   "cell_type": "code",
   "execution_count": 8,
   "id": "032a6552-d22c-4109-9c4f-56890c663a5e",
   "metadata": {},
   "outputs": [
    {
     "name": "stdout",
     "output_type": "stream",
     "text": [
      "['One.of.Us.Is.Lying.S01E01.720p.PCOK.WEBRip.x264-GalaxyTV.mkv', 'One.of.Us.Is.Lying.S01E02.720p.PCOK.WEBRip.x264-GalaxyTV.mkv', 'One.of.Us.Is.Lying.S01E03.720p.PCOK.WEBRip.x264-GalaxyTV.mkv', 'One.of.Us.Is.Lying.S01E04.720p.PCOK.WEBRip.x264-GalaxyTV.mkv', 'One.of.Us.Is.Lying.S01E05.720p.PCOK.WEBRip.x264-GalaxyTV.mkv', 'One.of.Us.Is.Lying.S01E06.720p.PCOK.WEBRip.x264-GalaxyTV.mkv', 'One.of.Us.Is.Lying.S01E07.720p.PCOK.WEBRip.x264-GalaxyTV.mkv', 'One.of.Us.Is.Lying.S01E08.720p.PCOK.WEBRip.x264-GalaxyTV.mkv', '[TGx]Downloaded_from_torrentgalaxy.to_.txt']\n"
     ]
    }
   ],
   "source": [
    "import os\n",
    "\n",
    "# Example directory path\n",
    "#dir_path = r\"C:\\Users\\LeonMbano\\Documents\\Ceshhar work\\leoscode\"\n",
    "dir_path = r\"C:\\Users\\LeonMbano\\Videos\\One.of.Us.Is.Lying.S01.COMPLETE.720p.PCOK.WEBRip.x264-GalaxyTV[TGx]\"\n",
    "\n",
    "# Get the list of files in the directory using os.path\n",
    "files = [os.path.basename(f) for f in os.listdir(dir_path) if not f.startswith('.')]\n",
    "\n",
    "# Print the list of files\n",
    "print(files)"
   ]
  },
  {
   "cell_type": "code",
   "execution_count": 9,
   "id": "fdcd05e2-d9b4-4a4d-aaca-9dd147a37d2b",
   "metadata": {},
   "outputs": [
    {
     "name": "stdout",
     "output_type": "stream",
     "text": [
      "{1: 'Geeks', 2: 'For', 3: 'Geeks'}\n"
     ]
    }
   ],
   "source": [
    "# Creating a dictionary\n",
    "Dict = {1: 'Geeks', 2: 'For', 3: 'Geeks'}\n",
    "print(Dict)\n",
    "\n"
   ]
  },
  {
   "cell_type": "code",
   "execution_count": 10,
   "id": "44856c16-c331-41c5-a659-5d5f1f524bfb",
   "metadata": {},
   "outputs": [
    {
     "name": "stdout",
     "output_type": "stream",
     "text": [
      "{1: 'Geeks', 2: 'For', 3: {'A': 'Welcome', 'B': 'To', 'C': 'Geeks'}}\n"
     ]
    }
   ],
   "source": [
    "#Nested dictionary\n",
    "Dict = {1: 'Geeks', 2: 'For',\n",
    "\t\t3: {'A': 'Welcome', 'B': 'To', 'C': 'Geeks'}}\n",
    "\n",
    "print(Dict)\n"
   ]
  },
  {
   "cell_type": "code",
   "execution_count": 13,
   "id": "b86aebc6-2ad1-4135-bbe6-990bd3d3ce02",
   "metadata": {},
   "outputs": [
    {
     "name": "stdout",
     "output_type": "stream",
     "text": [
      "Accessing a element from a Multi-Dimensional list\n",
      "Mhofu\n",
      "Shumba\n"
     ]
    }
   ],
   "source": [
    "#List \n",
    "# Creating a Multi-Dimensional List\n",
    "# (By Nesting a list inside a List)\n",
    "List = [['Geeks', 'For','Mhofu'], ['Geeks','Shumba','Mazvimbakupa']]\n",
    "\n",
    "# accessing an element from the\n",
    "# Multi-Dimensional List using\n",
    "# index number\n",
    "print(\"Accessing a element from a Multi-Dimensional list\")\n",
    "print(List[0][2])\n",
    "print(List[1][1])\n"
   ]
  },
  {
   "cell_type": "code",
   "execution_count": 16,
   "id": "984956af-0efb-4490-877a-5a0a6db21f42",
   "metadata": {},
   "outputs": [
    {
     "name": "stdout",
     "output_type": "stream",
     "text": [
      "Accessing element using negative indexing\n",
      "2\n",
      "For\n",
      "7\n"
     ]
    }
   ],
   "source": [
    "#Negative indexing means beginning from the end, -1 refers to the last item, -2 refers to the second-last item\n",
    "# List[len(List)-3], it is enough to just write List[-3].\n",
    "List = [1, 2, 'Geeks', 4, 'For', 6, 'Geeks']\n",
    "\n",
    "# accessing an element using\n",
    "# negative indexing\n",
    "print(\"Accessing element using negative indexing\")\n",
    "\n",
    "# print the last element of list\n",
    "print(List[-6])\n",
    "\n",
    "# print the third last element of list\n",
    "print(List[-3])\n",
    "\n",
    "#Getting size of a list\n",
    "print(len(List))\n"
   ]
  },
  {
   "cell_type": "code",
   "execution_count": 22,
   "id": "40aa40c4-f13c-4608-b1d8-c81bf6820673",
   "metadata": {},
   "outputs": [
    {
     "name": "stdin",
     "output_type": "stream",
     "text": [
      "Enter elements (Space-Separated):  Leon Mbano chikwaka matemai nzou chena\n"
     ]
    }
   ],
   "source": [
    "#Taking input in python\n"
   ]
  },
  {
   "cell_type": "code",
   "execution_count": 23,
   "id": "08b45275-418e-4023-816a-1e19d6358ad7",
   "metadata": {},
   "outputs": [
    {
     "name": "stdout",
     "output_type": "stream",
     "text": [
      "The list is: ['Leon', 'Mbano', 'chikwaka', 'matemai', 'nzou', 'chena']\n"
     ]
    }
   ],
   "source": [
    "# split the strings and store it to a list\n",
    "lst = string.split()  \n",
    "print('The list is:', lst)   # printing the list"
   ]
  },
  {
   "cell_type": "code",
   "execution_count": 25,
   "id": "bdf5316d-d7cb-47ea-ae90-61f3477c8d99",
   "metadata": {},
   "outputs": [
    {
     "name": "stdin",
     "output_type": "stream",
     "text": [
      "Enter the size of list :  1\n",
      "Enter the integerelements: 3\n"
     ]
    },
    {
     "name": "stdout",
     "output_type": "stream",
     "text": [
      "The list is: [3]\n"
     ]
    }
   ],
   "source": [
    "#Inpput using input type\n",
    "# input size of the list\n",
    "n = int(input(\"Enter the size of list : \"))\n",
    "# store integers in a list using map,\n",
    "# split and strip functions\n",
    "lst = list(map(int, input(\"Enter the integer\\\n",
    "elements:\").strip().split()))[:n]\n",
    " \n",
    "# printing the list\n",
    "print('The list is:', lst)"
   ]
  },
  {
   "cell_type": "code",
   "execution_count": null,
   "id": "7bdd957b-afae-4a23-a24b-a79028a36dd0",
   "metadata": {},
   "outputs": [],
   "source": []
  }
 ],
 "metadata": {
  "kernelspec": {
   "display_name": "Python 3 (ipykernel)",
   "language": "python",
   "name": "python3"
  },
  "language_info": {
   "codemirror_mode": {
    "name": "ipython",
    "version": 3
   },
   "file_extension": ".py",
   "mimetype": "text/x-python",
   "name": "python",
   "nbconvert_exporter": "python",
   "pygments_lexer": "ipython3",
   "version": "3.8.18"
  }
 },
 "nbformat": 4,
 "nbformat_minor": 5
}
